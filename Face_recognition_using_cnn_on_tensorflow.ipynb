{
  "nbformat": 4,
  "nbformat_minor": 0,
  "metadata": {
    "colab": {
      "name": "Face_recognition_using_cnn_on_tensorflow.ipynb",
      "version": "0.3.2",
      "provenance": [],
      "collapsed_sections": [],
      "toc_visible": true,
      "include_colab_link": true
    },
    "kernelspec": {
      "name": "python3",
      "display_name": "Python 3"
    },
    "accelerator": "GPU"
  },
  "cells": [
    {
      "cell_type": "markdown",
      "metadata": {
        "id": "view-in-github",
        "colab_type": "text"
      },
      "source": [
        "<a href=\"https://colab.research.google.com/github/arnauldnzegha/deep2pde_Berg_Nystrom/blob/master/Face_recognition_using_cnn_on_tensorflow.ipynb\" target=\"_parent\"><img src=\"https://colab.research.google.com/assets/colab-badge.svg\" alt=\"Open In Colab\"/></a>"
      ]
    },
    {
      "cell_type": "markdown",
      "metadata": {
        "id": "QZQCFBRxd1PO",
        "colab_type": "text"
      },
      "source": [
        "#Multimodale fusion for authentication: face + fingerprinter\n",
        "\n",
        "This notebook presente a multimodale fusion approch to inprouve authentication systeme accuracy. \n",
        "\n",
        "This has key importance in real-time systems as long as the autentifiacation of any modality is not 100% guaranteed. "
      ]
    },
    {
      "cell_type": "markdown",
      "metadata": {
        "id": "s7xZcQZwiCNL",
        "colab_type": "text"
      },
      "source": [
        "This routine load the training data set form google drive and unzip it in \"DATA2/\""
      ]
    },
    {
      "cell_type": "code",
      "metadata": {
        "id": "ueyV4r_Um49c",
        "colab_type": "code",
        "colab": {}
      },
      "source": [
        ""
      ],
      "execution_count": 0,
      "outputs": []
    },
    {
      "cell_type": "code",
      "metadata": {
        "id": "CTAlwtNMhcMr",
        "colab_type": "code",
        "colab": {
          "base_uri": "https://localhost:8080/",
          "height": 53
        },
        "outputId": "bae11cea-1085-48e7-a86b-1916fb91e2ea"
      },
      "source": [
        "##*****************LOAD AND UNZIP******************************\n",
        "!pip install -U -q PyDrive\n",
        "from pydrive.auth import GoogleAuth\n",
        "from pydrive.drive import GoogleDrive\n",
        "from google.colab import auth\n",
        "from oauth2client.client import GoogleCredentials\n",
        "import zipfile, os\n",
        "auth.authenticate_user()\n",
        "gauth = GoogleAuth()\n",
        "gauth.credentials = GoogleCredentials.get_application_default()\n",
        "drive = GoogleDrive(gauth)\n",
        "zip_id = '1dx5RX4wG7ccvUEHRXO4-FfGE1ZePdlQa'\n",
        "if not os.path.exists('DATA2'):\n",
        "    os.makedirs('DATA2')\n",
        "myzip = drive.CreateFile({'id': zip_id})\n",
        "myzip.GetContentFile('model.zip')\n",
        "zip_ref = zipfile.ZipFile('model.zip', 'r')\n",
        "zip_ref.extractall('DATA2/')\n",
        "zip_ref.close()"
      ],
      "execution_count": 1,
      "outputs": [
        {
          "output_type": "stream",
          "text": [
            "\u001b[?25l\r\u001b[K     |▎                               | 10kB 16.4MB/s eta 0:00:01\r\u001b[K     |▋                               | 20kB 1.9MB/s eta 0:00:01\r\u001b[K     |█                               | 30kB 2.7MB/s eta 0:00:01\r\u001b[K     |█▎                              | 40kB 1.8MB/s eta 0:00:01\r\u001b[K     |█▋                              | 51kB 2.2MB/s eta 0:00:01\r\u001b[K     |██                              | 61kB 2.6MB/s eta 0:00:01\r\u001b[K     |██▎                             | 71kB 3.0MB/s eta 0:00:01\r\u001b[K     |██▋                             | 81kB 3.4MB/s eta 0:00:01\r\u001b[K     |███                             | 92kB 3.8MB/s eta 0:00:01\r\u001b[K     |███▎                            | 102kB 2.9MB/s eta 0:00:01\r\u001b[K     |███▋                            | 112kB 2.9MB/s eta 0:00:01\r\u001b[K     |████                            | 122kB 2.9MB/s eta 0:00:01\r\u001b[K     |████▎                           | 133kB 2.9MB/s eta 0:00:01\r\u001b[K     |████▋                           | 143kB 2.9MB/s eta 0:00:01\r\u001b[K     |█████                           | 153kB 2.9MB/s eta 0:00:01\r\u001b[K     |█████▎                          | 163kB 2.9MB/s eta 0:00:01\r\u001b[K     |█████▋                          | 174kB 2.9MB/s eta 0:00:01\r\u001b[K     |██████                          | 184kB 2.9MB/s eta 0:00:01\r\u001b[K     |██████▎                         | 194kB 2.9MB/s eta 0:00:01\r\u001b[K     |██████▋                         | 204kB 2.9MB/s eta 0:00:01\r\u001b[K     |███████                         | 215kB 2.9MB/s eta 0:00:01\r\u001b[K     |███████▎                        | 225kB 2.9MB/s eta 0:00:01\r\u001b[K     |███████▋                        | 235kB 2.9MB/s eta 0:00:01\r\u001b[K     |████████                        | 245kB 2.9MB/s eta 0:00:01\r\u001b[K     |████████▎                       | 256kB 2.9MB/s eta 0:00:01\r\u001b[K     |████████▋                       | 266kB 2.9MB/s eta 0:00:01\r\u001b[K     |█████████                       | 276kB 2.9MB/s eta 0:00:01\r\u001b[K     |█████████▎                      | 286kB 2.9MB/s eta 0:00:01\r\u001b[K     |█████████▋                      | 296kB 2.9MB/s eta 0:00:01\r\u001b[K     |██████████                      | 307kB 2.9MB/s eta 0:00:01\r\u001b[K     |██████████▎                     | 317kB 2.9MB/s eta 0:00:01\r\u001b[K     |██████████▋                     | 327kB 2.9MB/s eta 0:00:01\r\u001b[K     |███████████                     | 337kB 2.9MB/s eta 0:00:01\r\u001b[K     |███████████▎                    | 348kB 2.9MB/s eta 0:00:01\r\u001b[K     |███████████▋                    | 358kB 2.9MB/s eta 0:00:01\r\u001b[K     |████████████                    | 368kB 2.9MB/s eta 0:00:01\r\u001b[K     |████████████▎                   | 378kB 2.9MB/s eta 0:00:01\r\u001b[K     |████████████▋                   | 389kB 2.9MB/s eta 0:00:01\r\u001b[K     |█████████████                   | 399kB 2.9MB/s eta 0:00:01\r\u001b[K     |█████████████▎                  | 409kB 2.9MB/s eta 0:00:01\r\u001b[K     |█████████████▋                  | 419kB 2.9MB/s eta 0:00:01\r\u001b[K     |██████████████                  | 430kB 2.9MB/s eta 0:00:01\r\u001b[K     |██████████████▎                 | 440kB 2.9MB/s eta 0:00:01\r\u001b[K     |██████████████▋                 | 450kB 2.9MB/s eta 0:00:01\r\u001b[K     |███████████████                 | 460kB 2.9MB/s eta 0:00:01\r\u001b[K     |███████████████▎                | 471kB 2.9MB/s eta 0:00:01\r\u001b[K     |███████████████▋                | 481kB 2.9MB/s eta 0:00:01\r\u001b[K     |████████████████                | 491kB 2.9MB/s eta 0:00:01\r\u001b[K     |████████████████▎               | 501kB 2.9MB/s eta 0:00:01\r\u001b[K     |████████████████▋               | 512kB 2.9MB/s eta 0:00:01\r\u001b[K     |█████████████████               | 522kB 2.9MB/s eta 0:00:01\r\u001b[K     |█████████████████▎              | 532kB 2.9MB/s eta 0:00:01\r\u001b[K     |█████████████████▋              | 542kB 2.9MB/s eta 0:00:01\r\u001b[K     |██████████████████              | 552kB 2.9MB/s eta 0:00:01\r\u001b[K     |██████████████████▎             | 563kB 2.9MB/s eta 0:00:01\r\u001b[K     |██████████████████▋             | 573kB 2.9MB/s eta 0:00:01\r\u001b[K     |███████████████████             | 583kB 2.9MB/s eta 0:00:01\r\u001b[K     |███████████████████▎            | 593kB 2.9MB/s eta 0:00:01\r\u001b[K     |███████████████████▋            | 604kB 2.9MB/s eta 0:00:01\r\u001b[K     |████████████████████            | 614kB 2.9MB/s eta 0:00:01\r\u001b[K     |████████████████████▎           | 624kB 2.9MB/s eta 0:00:01\r\u001b[K     |████████████████████▋           | 634kB 2.9MB/s eta 0:00:01\r\u001b[K     |█████████████████████           | 645kB 2.9MB/s eta 0:00:01\r\u001b[K     |█████████████████████▎          | 655kB 2.9MB/s eta 0:00:01\r\u001b[K     |█████████████████████▋          | 665kB 2.9MB/s eta 0:00:01\r\u001b[K     |██████████████████████          | 675kB 2.9MB/s eta 0:00:01\r\u001b[K     |██████████████████████▎         | 686kB 2.9MB/s eta 0:00:01\r\u001b[K     |██████████████████████▋         | 696kB 2.9MB/s eta 0:00:01\r\u001b[K     |███████████████████████         | 706kB 2.9MB/s eta 0:00:01\r\u001b[K     |███████████████████████▎        | 716kB 2.9MB/s eta 0:00:01\r\u001b[K     |███████████████████████▋        | 727kB 2.9MB/s eta 0:00:01\r\u001b[K     |████████████████████████        | 737kB 2.9MB/s eta 0:00:01\r\u001b[K     |████████████████████████▎       | 747kB 2.9MB/s eta 0:00:01\r\u001b[K     |████████████████████████▋       | 757kB 2.9MB/s eta 0:00:01\r\u001b[K     |████████████████████████▉       | 768kB 2.9MB/s eta 0:00:01\r\u001b[K     |█████████████████████████▏      | 778kB 2.9MB/s eta 0:00:01\r\u001b[K     |█████████████████████████▌      | 788kB 2.9MB/s eta 0:00:01\r\u001b[K     |█████████████████████████▉      | 798kB 2.9MB/s eta 0:00:01\r\u001b[K     |██████████████████████████▏     | 808kB 2.9MB/s eta 0:00:01\r\u001b[K     |██████████████████████████▌     | 819kB 2.9MB/s eta 0:00:01\r\u001b[K     |██████████████████████████▉     | 829kB 2.9MB/s eta 0:00:01\r\u001b[K     |███████████████████████████▏    | 839kB 2.9MB/s eta 0:00:01\r\u001b[K     |███████████████████████████▌    | 849kB 2.9MB/s eta 0:00:01\r\u001b[K     |███████████████████████████▉    | 860kB 2.9MB/s eta 0:00:01\r\u001b[K     |████████████████████████████▏   | 870kB 2.9MB/s eta 0:00:01\r\u001b[K     |████████████████████████████▌   | 880kB 2.9MB/s eta 0:00:01\r\u001b[K     |████████████████████████████▉   | 890kB 2.9MB/s eta 0:00:01\r\u001b[K     |█████████████████████████████▏  | 901kB 2.9MB/s eta 0:00:01\r\u001b[K     |█████████████████████████████▌  | 911kB 2.9MB/s eta 0:00:01\r\u001b[K     |█████████████████████████████▉  | 921kB 2.9MB/s eta 0:00:01\r\u001b[K     |██████████████████████████████▏ | 931kB 2.9MB/s eta 0:00:01\r\u001b[K     |██████████████████████████████▌ | 942kB 2.9MB/s eta 0:00:01\r\u001b[K     |██████████████████████████████▉ | 952kB 2.9MB/s eta 0:00:01\r\u001b[K     |███████████████████████████████▏| 962kB 2.9MB/s eta 0:00:01\r\u001b[K     |███████████████████████████████▌| 972kB 2.9MB/s eta 0:00:01\r\u001b[K     |███████████████████████████████▉| 983kB 2.9MB/s eta 0:00:01\r\u001b[K     |████████████████████████████████| 993kB 2.9MB/s \n",
            "\u001b[?25h  Building wheel for PyDrive (setup.py) ... \u001b[?25l\u001b[?25hdone\n"
          ],
          "name": "stdout"
        }
      ]
    },
    {
      "cell_type": "markdown",
      "metadata": {
        "id": "Th-k0rVXhuZK",
        "colab_type": "text"
      },
      "source": [
        "Here, there is all usefull importations"
      ]
    },
    {
      "cell_type": "code",
      "metadata": {
        "id": "LkRAuQoYhsCM",
        "colab_type": "code",
        "outputId": "7f8d0e71-8aa4-4ce6-e842-3aec622af283",
        "colab": {
          "base_uri": "https://localhost:8080/",
          "height": 35
        }
      },
      "source": [
        "from __future__ import print_function\n",
        "from sklearn.model_selection import train_test_split\n",
        "from sklearn.datasets import fetch_lfw_people\n",
        "from keras.utils import np_utils\n",
        "from PIL import Image\n",
        "import cv2\n",
        "import numpy as np\n",
        "import warnings\n",
        "import matplotlib.pyplot as plt\n",
        "from keras.models import Model\n",
        "from keras.optimizers import SGD,Adadelta\n",
        "from keras.layers import Flatten, Dense, Convolution2D, MaxPooling2D, Input, Dropout\n",
        "from keras.layers.normalization import BatchNormalization\n",
        "from keras.utils.layer_utils import convert_all_kernels_in_model\n",
        "from keras.utils.data_utils import get_file\n",
        "from keras import backend as K\n",
        "from random import shuffle\n",
        "from keras.preprocessing.image import load_img, img_to_array, array_to_img"
      ],
      "execution_count": 2,
      "outputs": [
        {
          "output_type": "stream",
          "text": [
            "Using TensorFlow backend.\n"
          ],
          "name": "stderr"
        }
      ]
    },
    {
      "cell_type": "markdown",
      "metadata": {
        "id": "A7r03_OHzTeT",
        "colab_type": "text"
      },
      "source": [
        "This function mix "
      ]
    },
    {
      "cell_type": "code",
      "metadata": {
        "id": "wuUSltTUB6mu",
        "colab_type": "code",
        "colab": {}
      },
      "source": [
        "def load_trainSet():\n",
        "    root=\"DATA2\"\n",
        "    folders = os.listdir(root)\n",
        "    nb = len(folders)\n",
        "    x_data=[]\n",
        "    y_label=[]\n",
        "    for x in range(nb):\n",
        "        label=np.zeros(nb)\n",
        "        label[x]=1\n",
        "        facesPath=os.listdir(root+\"/\"+folders[x])\n",
        "        faces=[root+\"/\"+folders[x]+\"/\"+f for f in facesPath if f.endswith(\".png\")]\n",
        "        for face in faces:\n",
        "            img=cv2.imread(face)\n",
        "            x_data.extend([img])\n",
        "            y_label.extend([label])\n",
        "    return (np.asarray(x_data), np.asarray(y_label), nb)"
      ],
      "execution_count": 0,
      "outputs": []
    },
    {
      "cell_type": "code",
      "metadata": {
        "id": "IxUlGM6QiwtK",
        "colab_type": "code",
        "colab": {}
      },
      "source": [
        "def mixData(xs,ys):\n",
        "    xys=[]\n",
        "    for i in range(0,len(xs)-1):\n",
        "        xys.append((xs[i],ys[i]))\n",
        "    shuffle(xys)\n",
        "    x2,y2=[],[]\n",
        "    for (x,y) in xys:\n",
        "        x2.append(x)\n",
        "        y2.append(y)\n",
        "    return (np.asarray(x2), np.asarray(y2))\n",
        "#X_train, Y_train=mixData(X_train, Y_train)"
      ],
      "execution_count": 0,
      "outputs": []
    },
    {
      "cell_type": "code",
      "metadata": {
        "id": "C6A7m9Go_iS9",
        "colab_type": "code",
        "colab": {}
      },
      "source": [
        "def save_weights_in_drive(model, filename):\n",
        "  from google.colab import files\n",
        "  model.save_weights('my_model_weights_fam.h5')\n",
        "  uploaded = drive.CreateFile({'title': 'my_model_weights_fam.h5'})\n",
        "  uploaded.SetContentFile('model_weights_AUG_300.h5')\n",
        "  uploaded.Upload()\n",
        "  print('Uploaded file with ID {}'.format(uploaded.get('id')))"
      ],
      "execution_count": 0,
      "outputs": []
    },
    {
      "cell_type": "markdown",
      "metadata": {
        "id": "C9fnmLfAzj3A",
        "colab_type": "text"
      },
      "source": [
        "T"
      ]
    },
    {
      "cell_type": "code",
      "metadata": {
        "id": "-xJeJr5ajDwR",
        "colab_type": "code",
        "colab": {}
      },
      "source": [
        "def fr_model(input_shape,nb_person=1):\n",
        "    img_input = Input(shape=input_shape)\n",
        "    #Block 1 avec 64 filtre\n",
        "    x = Convolution2D(64, 3, 3, activation='relu', border_mode='same', name='conv1_1')(img_input)\n",
        "    x=BatchNormalization()(x)\n",
        "    x = Convolution2D(64, 3, 3, activation='relu', border_mode='same', name='conv1_2')(x)\n",
        "    x = MaxPooling2D((2, 2), strides=(2, 2), name='pool1')(x)\n",
        "    x= Dropout(0.25)(x)\n",
        "\n",
        "    # Block 2\n",
        "    x = Convolution2D(128, 3, 3, activation='relu', border_mode='same', name='conv2_1')(x)\n",
        "    x = Convolution2D(128, 3, 3, activation='relu', border_mode='same', name='conv2_2')(x)\n",
        "    x=BatchNormalization()(x)\n",
        "    x = MaxPooling2D((2, 2), strides=(2, 2), name='pool2')(x)\n",
        "    x= Dropout(0.25)(x)\n",
        "\n",
        "    # Block 3\n",
        "    x = Convolution2D(256, 3, 3, activation='relu', border_mode='same', name='conv3_1')(x)\n",
        "    x = Convolution2D(256, 3, 3, activation='relu', border_mode='same', name='conv3_2')(x)\n",
        "    x=BatchNormalization()(x)\n",
        "    x = Convolution2D(256, 3, 3, activation='relu', border_mode='same', name='conv3_3')(x)\n",
        "    x = MaxPooling2D((2, 2), strides=(2, 2), name='pool3')(x)\n",
        "    x= Dropout(0.25)(x)\n",
        "\n",
        "    # Block 4\n",
        "    x = Convolution2D(512, 3, 3, activation='relu', border_mode='same', name='conv4_1')(x)\n",
        "    x = Convolution2D(512, 3, 3, activation='relu', border_mode='same', name='conv4_2')(x)\n",
        "    x = Convolution2D(512, 3, 3, activation='relu', border_mode='same', name='conv4_3')(x)\n",
        "    x=BatchNormalization()(x)\n",
        "    x = MaxPooling2D((2, 2), strides=(2, 2), name='pool4')(x)\n",
        "    x= Dropout(0.25)(x)\n",
        "\n",
        "    # Block 5\n",
        "    x = Convolution2D(512, 3, 3, activation='relu', border_mode='same', name='conv5_1')(x)\n",
        "    x = Convolution2D(512, 3, 3, activation='relu', border_mode='same', name='conv5_2')(x)\n",
        "    x = Convolution2D(512, 3, 3, activation='relu', border_mode='same', name='conv5_3')(x)\n",
        "    x=BatchNormalization()(x)\n",
        "    x = MaxPooling2D((2, 2), strides=(2, 2), name='pool5')(x)\n",
        "    x= Dropout(0.25)(x)\n",
        "\n",
        "    #Classifieur du modele\n",
        "    x = Flatten(name='flatten')(x)\n",
        "    x = Dense(4096, activation='relu', name='fc6')(x)\n",
        "    x= Dropout(0.25)(x)\n",
        "    x = Dense(4096, activation='relu', name='fc7')(x)\n",
        "    x = Dense(nb_person, activation='softmax', name='fc8')(x)\n",
        "    model = Model(img_input, x)\n",
        "    return model"
      ],
      "execution_count": 0,
      "outputs": []
    },
    {
      "cell_type": "code",
      "metadata": {
        "id": "QElfAiASyDfT",
        "colab_type": "code",
        "colab": {}
      },
      "source": [
        "from keras.preprocessing.image import ImageDataGenerator\n",
        "datagen = ImageDataGenerator(\n",
        "    featurewise_center=True,\n",
        "    featurewise_std_normalization=True,\n",
        "    rotation_range=20,\n",
        "    width_shift_range=0.2,\n",
        "    height_shift_range=0.2,\n",
        "    zoom_range=0.2,\n",
        "    horizontal_flip=True)"
      ],
      "execution_count": 0,
      "outputs": []
    },
    {
      "cell_type": "code",
      "metadata": {
        "id": "DzXS9oZUjKoq",
        "colab_type": "code",
        "colab": {}
      },
      "source": [
        "if __name__ == '__main__':\n",
        "    import copy\n",
        "    (x_train, y_train, nb_class)=load_trainSet()\n",
        "    (x_train, y_train)=mixData(x_train, y_train)\n",
        "    model = fr_model(nb_person=nb_class, input_shape=x_train[0].shape)\n",
        "    #sgd = SGD(lr=0.01, decay=1e-6, momentum=0.9, nesterov=True)\n",
        "    delta=Adadelta(lr=1.0, rho=0.95, epsilon=None, decay=0.0)\n",
        "    model.compile(loss='categorical_crossentropy', optimizer=delta,  metrics=['accuracy'])\n",
        "    print(\"Entrainement du modele\")\n",
        "    tr,v=len(x_train)-300,len(x_train)-1\n",
        "    hist=model.fit_generator(datagen.flow(x_train[:tr], y_train[:tr], batch_size=32),\n",
        "                    steps_per_epoch=len(x_train) / 32, validation_data =(x_train[tr:v], y_train[tr:v]), epochs=80, verbose=1)\n",
        "    #hist=model.fit(x_train, y_train, validation_split=0.33, batch_size=50, epochs=1000, verbose=0)"
      ],
      "execution_count": 0,
      "outputs": []
    },
    {
      "cell_type": "code",
      "metadata": {
        "id": "zdLwLzbnANpE",
        "colab_type": "code",
        "outputId": "095b3e54-4dd6-4f27-9df4-f2ecc797d995",
        "colab": {
          "base_uri": "https://localhost:8080/",
          "height": 295
        }
      },
      "source": [
        "plt.plot(hist.history['acc'])\n",
        "plt.plot(hist.history['val_acc'])\n",
        "plt.title('courbe de la perte DataSet avec augmentation / 1000 itération')\n",
        "plt.ylabel('Perte')\n",
        "plt.xlabel('itération')\n",
        "plt.legend(['train', 'test'], loc='upper left')\n",
        "plt.show()"
      ],
      "execution_count": 10,
      "outputs": [
        {
          "output_type": "display_data",
          "data": {
            "image/png": "[encoded data removed]",
            "text/plain": [
              "<Figure size 432x288 with 1 Axes>"
            ]
          },
          "metadata": {
            "tags": []
          }
        }
      ]
    },
    {
      "cell_type": "markdown",
      "metadata": {
        "id": "5F3YobNCAfoi",
        "colab_type": "text"
      },
      "source": [
        "Test predictions"
      ]
    },
    {
      "cell_type": "code",
      "metadata": {
        "id": "ZnTO-WIPAfDY",
        "colab_type": "code",
        "outputId": "5fe1e7ab-cb3d-4625-d6a7-5d755799a203",
        "colab": {
          "base_uri": "https://localhost:8080/",
          "height": 395
        }
      },
      "source": [
        "(x, y, _)=load_trainSet()\n",
        "print(len(x))\n",
        "test=model.predict(x_train[tr:v])\n",
        "test2=model.evaluate(x_train[tr:v], y_train[tr:v])\n",
        "list_id=np.argmax(test, axis=1)\n",
        "print(test2)\n",
        "print(list_id)\n",
        "print(np.argmax(y_train[tr:v], axis=1))"
      ],
      "execution_count": 11,
      "outputs": [
        {
          "output_type": "stream",
          "text": [
            "2136\n",
            "299/299 [==============================] - 1s 3ms/step\n",
            "[0.23339815507565054, 0.9297658872843586]\n",
            "[6 6 5 3 7 0 5 8 9 7 0 3 2 0 7 7 0 7 2 1 8 3 8 0 0 9 7 0 6 6 7 7 5 8 5 8 9\n",
            " 2 5 1 8 7 5 8 1 8 5 8 7 3 2 8 2 5 5 5 3 0 1 5 8 5 2 5 2 5 5 7 4 8 8 6 6 5\n",
            " 5 7 1 1 0 7 4 5 7 0 1 0 9 9 7 5 3 6 2 7 6 1 4 1 4 4 3 5 4 7 7 1 2 1 7 8 0\n",
            " 6 8 7 2 2 1 7 3 5 0 3 7 1 2 5 5 2 8 4 3 3 5 5 9 9 5 2 3 5 5 1 1 1 1 5 3 7\n",
            " 1 4 0 7 3 1 8 6 1 5 3 1 3 1 7 3 5 6 8 5 1 5 2 7 7 4 8 8 2 3 9 7 1 7 7 7 2\n",
            " 1 7 4 7 5 9 8 6 0 5 5 7 1 3 7 1 3 7 4 1 8 7 3 4 6 1 8 0 7 0 8 8 9 9 8 0 0\n",
            " 7 5 1 4 0 5 2 0 3 1 5 5 3 8 0 1 8 0 0 0 2 0 7 4 0 5 5 0 1 8 4 8 5 6 7 6 8\n",
            " 5 5 7 6 9 9 8 5 2 5 2 7 5 1 0 6 7 0 8 5 3 0 1 4 8 8 5 6 1 0 6 5 8 0 0 7 6\n",
            " 5 5 9]\n",
            "[6 6 5 3 7 0 5 8 9 7 0 3 2 0 7 7 0 7 2 1 8 3 8 0 0 7 7 3 6 6 7 7 5 8 5 8 9\n",
            " 2 5 1 8 7 5 8 3 8 5 8 7 3 2 8 2 5 5 5 3 0 1 5 8 5 2 5 2 5 5 7 4 8 8 6 6 5\n",
            " 5 7 3 1 0 7 4 5 7 0 1 0 9 9 7 5 3 6 2 7 6 1 1 3 4 4 3 5 4 7 7 9 2 1 7 8 0\n",
            " 6 8 7 2 2 1 7 0 5 0 3 7 3 2 5 5 2 8 7 3 3 5 5 9 9 5 2 3 5 5 1 3 1 1 5 3 7\n",
            " 1 4 0 7 3 1 8 6 1 5 3 1 3 1 7 3 5 6 8 5 3 5 2 7 7 4 8 8 2 3 9 7 1 7 7 7 2\n",
            " 1 7 4 7 7 9 8 6 0 5 5 7 1 3 7 1 3 7 4 1 8 7 3 4 6 1 8 0 7 0 8 8 9 9 8 0 0\n",
            " 9 5 1 4 0 8 2 0 3 1 4 5 3 8 0 1 8 0 0 0 2 0 7 4 0 5 5 0 3 8 4 8 5 6 7 6 8\n",
            " 5 5 7 6 2 9 8 5 2 4 2 7 5 1 0 6 7 0 8 5 3 0 3 4 8 8 5 6 1 0 6 5 8 0 0 7 6\n",
            " 5 8 9]\n"
          ],
          "name": "stdout"
        }
      ]
    }
  ]
}